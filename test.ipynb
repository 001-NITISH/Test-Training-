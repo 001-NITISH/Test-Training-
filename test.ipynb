{
 "cells": [
  {
   "cell_type": "markdown",
   "id": "7f4b8f56-ec01-4d08-a66e-329304b18c81",
   "metadata": {},
   "source": [
    "##     1) Write a program to count the sub_string from main string\r",
    "## \n",
    "Example:- A B C D C D C## \r\n",
    "Sub_string= C D C result =2"
   ]
  },
  {
   "cell_type": "code",
   "execution_count": 3,
   "id": "3ac6fa57-c018-4f53-bb3e-f0ebea0da09d",
   "metadata": {},
   "outputs": [
    {
     "name": "stdin",
     "output_type": "stream",
     "text": [
      "Enter the main string:  ABCDCDC\n",
      "Enter the sub-strinig:  CDC\n"
     ]
    },
    {
     "name": "stdout",
     "output_type": "stream",
     "text": [
      "Sub_string 'CDC' occurs 2 times in the main string.\n"
     ]
    }
   ],
   "source": [
    "def count_substring(main_string, sub_string):\n",
    "    count = 0\n",
    "    sub_length = len(sub_string)\n",
    "    \n",
    "    for i in range(len(main_string) - sub_length + 1):\n",
    "        if main_string[i:i + sub_length] == sub_string:\n",
    "            count += 1\n",
    "    \n",
    "    return count\n",
    "\n",
    "# Example usage\n",
    "main_string = input(\"Enter the main string: \")\n",
    "sub_string = input(\"Enter the sub-strinig: \")\n",
    "\n",
    "result = count_substring(main_string, sub_string)\n",
    "print(f\"Sub_string '{sub_string}' occurs {result} times in the main string.\")\n"
   ]
  },
  {
   "cell_type": "markdown",
   "id": "9a31f36e-24cb-4521-97eb-cb258e362181",
   "metadata": {},
   "source": [
    "## 2) Write a program to take 4 number and store in list [2,4,6,8] find the factorial of the each number of the list and store the value  in the list "
   ]
  },
  {
   "cell_type": "code",
   "execution_count": 6,
   "id": "119aaab2-960e-45ad-b09b-46e59d1667f4",
   "metadata": {},
   "outputs": [
    {
     "name": "stdout",
     "output_type": "stream",
     "text": [
      "Factorials of the numbers: [2, 24, 720, 40320]\n"
     ]
    }
   ],
   "source": [
    "import math\n",
    "\n",
    "numbers = [2, 4, 6, 8]\n",
    "\n",
    "factorials = [math.factorial(num) for num in numbers]\n",
    "\n",
    "print(\"Factorials of the numbers:\", factorials)\n"
   ]
  },
  {
   "cell_type": "markdown",
   "id": "c97c0080-2d9d-4345-b91c-4ab04b074cee",
   "metadata": {},
   "source": [
    "## 3) Create a strong password combining words, numbers and characters. \n",
    "## (*)Keep creating the new password until you find one you like "
   ]
  },
  {
   "cell_type": "code",
   "execution_count": 14,
   "id": "43197bdf-47f0-4d05-b133-fac2a23fbde0",
   "metadata": {},
   "outputs": [
    {
     "name": "stdout",
     "output_type": "stream",
     "text": [
      "Welcome to password picker game...\n",
      "Your new pasword is:  smellyapple77)\n"
     ]
    },
    {
     "name": "stdin",
     "output_type": "stream",
     "text": [
      "Would you like to generate another password ?...type Y for yes and N for no y\n"
     ]
    },
    {
     "name": "stdout",
     "output_type": "stream",
     "text": [
      "Your new pasword is:  wete12=\n"
     ]
    },
    {
     "name": "stdin",
     "output_type": "stream",
     "text": [
      "Would you like to generate another password ?...type Y for yes and N for no y\n"
     ]
    },
    {
     "name": "stdout",
     "output_type": "stream",
     "text": [
      "Your new pasword is:  fluffye56?\n"
     ]
    },
    {
     "name": "stdin",
     "output_type": "stream",
     "text": [
      "Would you like to generate another password ?...type Y for yes and N for no n\n"
     ]
    }
   ],
   "source": [
    "import random\n",
    "li=['anurag', 'anand','vivek','varun']\n",
    "import string\n",
    "adjectives=['wet','proud','sleepy','smelly','fatty','red','fluffy','brave']\n",
    "noun=['apple','dinosaur','ball','goat','dragon','panda']\n",
    "print(\"Welcome to password picker game...\")\n",
    "while True:\n",
    "    adjective=random.choice(adjectives)\n",
    "    noun=random.choice(noun)\n",
    "    number=random.randrange(1,100)\n",
    "    spChar=random.choice(string.punctuation)\n",
    "    password=adjective+noun+str(number)+spChar\n",
    "    print(\"Your new pasword is: \", password)\n",
    "    res = input(\"Would you like to generate another password ?...type Y for yes and N for no\")\n",
    "    if res=='n':\n",
    "        break"
   ]
  },
  {
   "cell_type": "markdown",
   "id": "7afc3df2-1833-44fc-a011-fcdaef478447",
   "metadata": {},
   "source": [
    "## 4)Checking of the vowels inside the string"
   ]
  },
  {
   "cell_type": "code",
   "execution_count": 17,
   "id": "fe224f51-f773-479d-8d31-392bf5e6309d",
   "metadata": {},
   "outputs": [
    {
     "name": "stdin",
     "output_type": "stream",
     "text": [
      "Enter a string Hello World\n"
     ]
    },
    {
     "name": "stdout",
     "output_type": "stream",
     "text": [
      "Vowels in the string: e, o, o\n",
      "Number of vowels: 3\n"
     ]
    }
   ],
   "source": [
    "def check_vowels(input_string):\n",
    "    vowels = \"aeiouAEIOU\"\n",
    "    found_vowels = []\n",
    "    \n",
    "    for char in input_string:\n",
    "        if char in vowels:\n",
    "            found_vowels.append(char)\n",
    "    \n",
    "    return found_vowels\n",
    "\n",
    "# Example usage\n",
    "input_string = input(\"Enter a string\")\n",
    "vowels_in_string = check_vowels(input_string)\n",
    "\n",
    "print(f\"Vowels in the string: {', '.join(vowels_in_string)}\")\n",
    "print(f\"Number of vowels: {len(vowels_in_string)}\")\n"
   ]
  },
  {
   "cell_type": "markdown",
   "id": "80d6b498-0c24-4715-80ed-1c611bb1f978",
   "metadata": {},
   "source": [
    "## 5)A python program to access each element of a string in forward and reverse orders using while loop"
   ]
  },
  {
   "cell_type": "code",
   "execution_count": 21,
   "id": "ded77fcc-117a-47eb-99de-37cb77682f7b",
   "metadata": {},
   "outputs": [
    {
     "name": "stdin",
     "output_type": "stream",
     "text": [
      "Enter the string Hello World\n"
     ]
    },
    {
     "name": "stdout",
     "output_type": "stream",
     "text": [
      "Accessing string in forward order:\n",
      "H e l l o   W o r l d \n",
      "\n",
      "Accessing string in reverse order:\n",
      "d l r o W   o l l e H "
     ]
    }
   ],
   "source": [
    "# Input string\n",
    "input_string = input(\"Enter the string\")\n",
    "\n",
    "# Forward order\n",
    "print(\"Accessing string in forward order:\")\n",
    "i = 0\n",
    "while i < len(input_string):\n",
    "    print(input_string[i], end=\" \")\n",
    "    i += 1\n",
    "\n",
    "print(\"\\n\")\n",
    "\n",
    "# Reverse order\n",
    "print(\"Accessing string in reverse order:\")\n",
    "i = len(input_string) - 1\n",
    "while i >= 0:\n",
    "    print(input_string[i], end=\" \")\n",
    "    i -= 1\n"
   ]
  },
  {
   "cell_type": "markdown",
   "id": "e3b6e339-515f-4d41-88f6-d24fdc257f6c",
   "metadata": {},
   "source": [
    "## 6) Write a python program to know whether a sub- string exists in main string "
   ]
  },
  {
   "cell_type": "code",
   "execution_count": 24,
   "id": "c05fc443-3313-42f1-a07b-288571c6d1ac",
   "metadata": {},
   "outputs": [
    {
     "name": "stdin",
     "output_type": "stream",
     "text": [
      "Enter the main string:  ABCDCABCDC\n",
      "Enter the substring to be searched: CDC\n"
     ]
    },
    {
     "name": "stdout",
     "output_type": "stream",
     "text": [
      "Yes present\n"
     ]
    }
   ],
   "source": [
    "def count_substrings(main_string, substr):\n",
    "    return main_string.count(substr)\n",
    "\n",
    "\n",
    "str1 = input(\"Enter the main string: \")\n",
    "str2 = input(\"Enter the substring to be searched:\")\n",
    "count = count_substrings(str1, str2)\n",
    "if(count):\n",
    "    print('Yes present')\n",
    "else:\n",
    "    print(\"Absent\")"
   ]
  },
  {
   "cell_type": "markdown",
   "id": "6e8c0da6-c1b6-4ced-9d0d-98abb8c8848e",
   "metadata": {},
   "source": [
    "## 7)A python program to find the first occurrences of sub string in a given main string  "
   ]
  },
  {
   "cell_type": "code",
   "execution_count": 27,
   "id": "0c488673-5094-4541-8864-ac20a4c563f6",
   "metadata": {},
   "outputs": [
    {
     "name": "stdout",
     "output_type": "stream",
     "text": [
      "The first occurrence of 'World' is at index: 7\n"
     ]
    }
   ],
   "source": [
    "def find_first_occurrence(main_string, sub_string):\n",
    "    index = main_string.find(sub_string)\n",
    "    return index\n",
    "\n",
    "# Example usage\n",
    "main_string = \"Hello, World! Welcome to the world of Python.\"\n",
    "sub_string = \"World\"\n",
    "\n",
    "index = find_first_occurrence(main_string, sub_string)\n",
    "\n",
    "if index != -1:\n",
    "    print(f\"The first occurrence of '{sub_string}' is at index: {index}\")\n",
    "else:\n",
    "    print(f\"The substring '{sub_string}' was not found in the main string.\")\n"
   ]
  },
  {
   "cell_type": "markdown",
   "id": "b42166de-0476-4403-8fef-a096a8d40108",
   "metadata": {},
   "source": [
    "## 8)     8) A python program to insert a sub string in main string in a particular position\n",
    "\r\n",
    "Example:- enter a string :- it is summer\r\n",
    "Enter sub_string;- hot\r\n",
    "Enter position no:- 7\r\n",
    "Result :- It is hotsummer re"
   ]
  }
 ],
 "metadata": {
  "kernelspec": {
   "display_name": "Python 3 (ipykernel)",
   "language": "python",
   "name": "python3"
  },
  "language_info": {
   "codemirror_mode": {
    "name": "ipython",
    "version": 3
   },
   "file_extension": ".py",
   "mimetype": "text/x-python",
   "name": "python",
   "nbconvert_exporter": "python",
   "pygments_lexer": "ipython3",
   "version": "3.12.4"
  }
 },
 "nbformat": 4,
 "nbformat_minor": 5
}
